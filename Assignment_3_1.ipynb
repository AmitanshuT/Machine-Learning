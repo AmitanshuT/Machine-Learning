{
  "nbformat": 4,
  "nbformat_minor": 0,
  "metadata": {
    "colab": {
      "provenance": [],
      "authorship_tag": "ABX9TyPPDaqlTTsTElKCJBWydsrL",
      "include_colab_link": true
    },
    "kernelspec": {
      "name": "python3",
      "display_name": "Python 3"
    },
    "language_info": {
      "name": "python"
    }
  },
  "cells": [
    {
      "cell_type": "markdown",
      "metadata": {
        "id": "view-in-github",
        "colab_type": "text"
      },
      "source": [
        "<a href=\"https://colab.research.google.com/github/AmitanshuT/Machine-Learning/blob/main/Assignment_3_1.ipynb\" target=\"_parent\"><img src=\"https://colab.research.google.com/assets/colab-badge.svg\" alt=\"Open In Colab\"/></a>"
      ]
    },
    {
      "cell_type": "code",
      "execution_count": null,
      "metadata": {
        "id": "8RLFhHDhlgwR"
      },
      "outputs": [],
      "source": [
        "#Implement a decision tree on the Telecom Churn Data\n",
        "#Predict whether a customer will churn or not.\n",
        "#Use different attribute selection measures\n",
        "#Observe the differences in the tree (width, depth, accuracy, etc)\n",
        "#---------------------------------\n",
        "# Load libraries\n",
        "import pandas as pd\n",
        "from sklearn.tree import DecisionTreeClassifier # Import Decision Tree Classifier\n",
        "from sklearn.model_selection import train_test_split # Import train_test_split function\n",
        "from sklearn import metrics #Import scikit-learn metrics module for accuracy calculation\n",
        "\n",
        "col_names = ['customerID',\t'gender',\t'SeniorCitizen',\t'Partner','Dependents',\n",
        "             'tenure',\t'PhoneService',\t'MultipleLines',\t'InternetService',\n",
        "             'OnlineSecurity',\t'OnlineBackup','DeviceProtection','TechSupport',\n",
        "             'StreamingTV',\t'StreamingMovies',\t'Contract',\t'PaperlessBilling',\n",
        "             'PaymentMethod',\t'MonthlyCharges',\t'TotalCharges',\t'Label']\n",
        "# load dataset\n",
        "pima = pd.read_csv('/content/sample_data/Telco-Customer-Churn.csv', header=None,\n",
        "                   names=col_names)\n",
        "pima.head()"
      ]
    },
    {
      "cell_type": "code",
      "source": [
        "#split dataset in features and target variable\n",
        "feature_cols = ['customerID',\t'gender',\t'SeniorCitizen',\t'Partner','Dependents',\n",
        "             'tenure',\t'PhoneService',\t'MultipleLines',\t'InternetService',\n",
        "             'OnlineSecurity',\t'OnlineBackup','DeviceProtection','TechSupport',\n",
        "             'StreamingTV',\t'StreamingMovies',\t'Contract',\t'PaperlessBilling',\n",
        "             'PaymentMethod',\t'MonthlyCharges',\t'TotalCharges',\t'Label']\n",
        "X = pima[feature_cols] # Features\n",
        "y = pima.Label # Target variable\n",
        "\n",
        "# Split dataset into training set and test set\n",
        "X_train, X_test, y_train, y_test = train_test_split(X, y, test_size=0.3,\n",
        "                                                    random_state=1)\n",
        "# 70% training and 30% test\n",
        "\n",
        "# Create Decision Tree classifer object\n",
        "#clf = DecisionTreeClassifier()\n",
        "\n",
        "# Train Decision Tree Classifer\n",
        "#clf = clf.fit(X_train,y_train)\n",
        "\n",
        "#Predict the response for test dataset\n",
        "#y_pred = clf.predict(X_test)"
      ],
      "metadata": {
        "id": "mDgtUu01Ggsx"
      },
      "execution_count": null,
      "outputs": []
    }
  ]
}