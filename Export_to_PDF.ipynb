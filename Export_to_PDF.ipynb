{
  "nbformat": 4,
  "nbformat_minor": 0,
  "metadata": {
    "colab": {
      "provenance": [],
      "authorship_tag": "ABX9TyMoyKdohbhaHke7ueTlsHTa",
      "include_colab_link": true
    },
    "kernelspec": {
      "name": "python3",
      "display_name": "Python 3"
    },
    "language_info": {
      "name": "python"
    }
  },
  "cells": [
    {
      "cell_type": "markdown",
      "metadata": {
        "id": "view-in-github",
        "colab_type": "text"
      },
      "source": [
        "<a href=\"https://colab.research.google.com/github/AmitanshuT/Machine-Learning/blob/main/Export_to_PDF.ipynb\" target=\"_parent\"><img src=\"https://colab.research.google.com/assets/colab-badge.svg\" alt=\"Open In Colab\"/></a>"
      ]
    },
    {
      "cell_type": "code",
      "execution_count": null,
      "metadata": {
        "colab": {
          "base_uri": "https://localhost:8080/"
        },
        "id": "XMhBa-NVDONA",
        "outputId": "53719acc-a230-47b2-ce67-94b4b04956fe"
      },
      "outputs": [
        {
          "output_type": "stream",
          "name": "stdout",
          "text": [
            "[NbConvertApp] Converting notebook /content/Yet_another_copy_of_Assignment_6_Retry.ipynb to html\n",
            "[NbConvertApp] Writing 642353 bytes to /content/Yet_another_copy_of_Assignment_6_Retry.html\n"
          ]
        }
      ],
      "source": [
        "!jupyter nbconvert --to html /content/Yet_another_copy_of_Assignment_6_Retry.ipynb"
      ]
    }
  ]
}